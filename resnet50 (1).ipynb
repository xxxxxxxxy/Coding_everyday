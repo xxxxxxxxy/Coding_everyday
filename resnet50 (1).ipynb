{
 "cells": [
  {
   "cell_type": "code",
   "execution_count": 12,
   "metadata": {},
   "outputs": [],
   "source": [
    "from keras.applications.resnet50 import ResNet50\n",
    "from keras.preprocessing import image\n",
    "from keras.applications.resnet50 import preprocess_input, decode_predictions\n",
    "import numpy as np\n",
    "import cv2\n",
    "from imutils import paths\n",
    "import random\n",
    "import os\n",
    "from keras.utils import to_categorical\n",
    "#如果没有这两行代码，可能会报错OSError: image file is truncated\n",
    "from PIL import ImageFile\n",
    "ImageFile.LOAD_TRUNCATED_IMAGES = True"
   ]
  },
  {
   "cell_type": "code",
   "execution_count": 21,
   "metadata": {},
   "outputs": [],
   "source": [
    "norm_size = 32\n",
    "CLASS_NUM = 3\n",
    "EPOCHS = 35\n",
    "INIT_LR = 1e-2\n",
    "BS = 32"
   ]
  },
  {
   "cell_type": "code",
   "execution_count": 4,
   "metadata": {},
   "outputs": [],
   "source": [
    "#编写加载图像的函数\n",
    "def load_data(path):\n",
    "    print(\"[INFO] loading images...\")\n",
    "    data = []\n",
    "    labels = []\n",
    "    # grab the image paths and randomly shuffle them\n",
    "    imagePaths = sorted(list(paths.list_images(path)))\n",
    "    random.seed(42)\n",
    "    random.shuffle(imagePaths)\n",
    "    # loop over the input images\n",
    "    for imagePath in imagePaths:\n",
    "        img = image.load_img(imagePath, target_size=(224, 224))\n",
    "        x = image.img_to_array(img)\n",
    "        data.append(x)\n",
    "        #label是上级目录名\n",
    "        label = int(imagePath.split(os.path.sep)[-2])       \n",
    "        labels.append(label)\n",
    "    # scale the raw pixel intensities to the range [0, 1]\n",
    "    data = np.array(data, dtype=\"float\") / 255.0\n",
    "    labels = np.array(labels)\n",
    "\n",
    "    # convert the labels from integers to vectors\n",
    "    labels = to_categorical(labels, num_classes=CLASS_NUM)                         \n",
    "    return data,labels"
   ]
  },
  {
   "cell_type": "code",
   "execution_count": 20,
   "metadata": {},
   "outputs": [],
   "source": [
    "#搭建网络\n",
    "#加载预训练模型，需要下载预训练模型，可能会报错ConnectionResetError: [WinError 10054] 远程主机强迫关闭了一个现有的连接（网络原因）。\n",
    "from keras.optimizers import Adam\n",
    "from keras.models import Model\n",
    "model = ResNet50()\n",
    "#加一个dense层吧\n",
    "# x_in = Input(shape=(None,))\n",
    "# x = model([x_in])\n",
    "# x = Lambda(lambda x: x[:, 0])(x)\n",
    "# p = Dense(3, activation='softmax')(x)\n",
    "# model = Model([x_in], p)\n",
    "\n",
    "opt = Adam(lr=INIT_LR, decay=INIT_LR / EPOCHS)\n",
    "model.compile(loss=\"categorical_crossentropy\", optimizer=opt,\n",
    "        metrics=[\"accuracy\"])"
   ]
  },
  {
   "cell_type": "code",
   "execution_count": 18,
   "metadata": {},
   "outputs": [
    {
     "name": "stdout",
     "output_type": "stream",
     "text": [
      "[INFO] loading images...\n"
     ]
    },
    {
     "name": "stderr",
     "output_type": "stream",
     "text": [
      "/usr/local/lib/python3.6/dist-packages/PIL/TiffImagePlugin.py:802: UserWarning: Corrupt EXIF data.  Expecting to read 2 bytes but only got 0. \n",
      "  warnings.warn(str(msg))\n",
      "/usr/local/lib/python3.6/dist-packages/PIL/Image.py:989: UserWarning: Palette images with Transparency expressed in bytes should be converted to RGBA images\n",
      "  \"Palette images with Transparency expressed in bytes should be \"\n"
     ]
    },
    {
     "name": "stdout",
     "output_type": "stream",
     "text": [
      "[INFO] loading images...\n"
     ]
    }
   ],
   "source": [
    "train_file_path = r'/openbayes/input/input0/train'\n",
    "test_file_path = r'/openbayes/input/input0/trial'\n",
    "trainX,trainY = load_data(train_file_path)\n",
    "testX,testY = load_data(test_file_path)"
   ]
  },
  {
   "cell_type": "code",
   "execution_count": 22,
   "metadata": {},
   "outputs": [
    {
     "name": "stdout",
     "output_type": "stream",
     "text": [
      "Epoch 1/35\n",
      "200/200 [==============================] - 97s 486ms/step - loss: 1.1237 - accuracy: 0.5488 - val_loss: 0.8685 - val_accuracy: 0.6157\n",
      "Epoch 2/35\n",
      "200/200 [==============================] - 83s 417ms/step - loss: 0.9060 - accuracy: 0.5883 - val_loss: 0.8689 - val_accuracy: 0.6157\n",
      "Epoch 3/35\n",
      "200/200 [==============================] - 83s 416ms/step - loss: 0.9005 - accuracy: 0.5891 - val_loss: 0.8684 - val_accuracy: 0.6157\n",
      "Epoch 4/35\n",
      "200/200 [==============================] - 83s 416ms/step - loss: 0.8977 - accuracy: 0.5933 - val_loss: 0.8736 - val_accuracy: 0.6157\n",
      "Epoch 5/35\n",
      "200/200 [==============================] - 84s 418ms/step - loss: 0.9000 - accuracy: 0.5902 - val_loss: 1.4573 - val_accuracy: 0.6157\n",
      "Epoch 6/35\n",
      "200/200 [==============================] - 83s 416ms/step - loss: 0.9014 - accuracy: 0.5927 - val_loss: 0.8783 - val_accuracy: 0.6157\n",
      "Epoch 7/35\n",
      "200/200 [==============================] - 83s 413ms/step - loss: 0.8962 - accuracy: 0.5914 - val_loss: 0.8668 - val_accuracy: 0.6157\n",
      "Epoch 8/35\n",
      "200/200 [==============================] - 83s 413ms/step - loss: 0.8984 - accuracy: 0.5908 - val_loss: 0.8637 - val_accuracy: 0.6157\n",
      "Epoch 9/35\n",
      "200/200 [==============================] - 83s 415ms/step - loss: 0.8955 - accuracy: 0.5930 - val_loss: 0.8817 - val_accuracy: 0.6157\n",
      "Epoch 10/35\n",
      "200/200 [==============================] - 83s 414ms/step - loss: 0.9025 - accuracy: 0.5903 - val_loss: 0.8613 - val_accuracy: 0.6146\n",
      "Epoch 11/35\n",
      "200/200 [==============================] - 83s 413ms/step - loss: 0.8961 - accuracy: 0.5950 - val_loss: 0.8654 - val_accuracy: 0.6157\n",
      "Epoch 12/35\n",
      "200/200 [==============================] - 83s 413ms/step - loss: 0.8968 - accuracy: 0.5885 - val_loss: 0.8612 - val_accuracy: 0.6157\n",
      "Epoch 13/35\n",
      "200/200 [==============================] - 83s 414ms/step - loss: 0.8966 - accuracy: 0.5933 - val_loss: 0.9372 - val_accuracy: 0.6157\n",
      "Epoch 14/35\n",
      "200/200 [==============================] - 83s 414ms/step - loss: 0.8908 - accuracy: 0.5928 - val_loss: 0.8808 - val_accuracy: 0.6157\n",
      "Epoch 15/35\n",
      "200/200 [==============================] - 83s 414ms/step - loss: 0.8935 - accuracy: 0.5935 - val_loss: 0.8689 - val_accuracy: 0.6157\n",
      "Epoch 16/35\n",
      "200/200 [==============================] - 83s 417ms/step - loss: 0.8948 - accuracy: 0.5882 - val_loss: 0.8673 - val_accuracy: 0.6157\n",
      "Epoch 17/35\n",
      "200/200 [==============================] - 83s 414ms/step - loss: 0.8906 - accuracy: 0.5958 - val_loss: 0.8946 - val_accuracy: 0.5880\n",
      "Epoch 18/35\n",
      "200/200 [==============================] - 83s 413ms/step - loss: 0.8914 - accuracy: 0.5891 - val_loss: 0.8745 - val_accuracy: 0.6157\n",
      "Epoch 19/35\n",
      "200/200 [==============================] - 83s 414ms/step - loss: 0.8967 - accuracy: 0.5927 - val_loss: 0.9327 - val_accuracy: 0.6157\n",
      "Epoch 20/35\n",
      "200/200 [==============================] - 83s 413ms/step - loss: 0.8944 - accuracy: 0.5906 - val_loss: 0.8772 - val_accuracy: 0.6157\n",
      "Epoch 21/35\n",
      "200/200 [==============================] - 83s 413ms/step - loss: 0.8901 - accuracy: 0.5932 - val_loss: 0.8615 - val_accuracy: 0.6157\n",
      "Epoch 22/35\n",
      "200/200 [==============================] - 83s 413ms/step - loss: 0.9081 - accuracy: 0.5816 - val_loss: 0.9862 - val_accuracy: 0.6157\n",
      "Epoch 23/35\n",
      "200/200 [==============================] - 83s 413ms/step - loss: 0.8942 - accuracy: 0.5942 - val_loss: 1.7857 - val_accuracy: 0.5936\n",
      "Epoch 24/35\n",
      "200/200 [==============================] - 83s 414ms/step - loss: 0.8932 - accuracy: 0.5949 - val_loss: 0.9625 - val_accuracy: 0.6157\n",
      "Epoch 25/35\n",
      "200/200 [==============================] - 83s 413ms/step - loss: 0.9070 - accuracy: 0.5838 - val_loss: 0.8898 - val_accuracy: 0.6157\n",
      "Epoch 26/35\n",
      "200/200 [==============================] - 83s 416ms/step - loss: 0.8905 - accuracy: 0.5952 - val_loss: 0.9100 - val_accuracy: 0.6157\n",
      "Epoch 27/35\n",
      "200/200 [==============================] - 83s 414ms/step - loss: 0.8940 - accuracy: 0.5926 - val_loss: 0.8846 - val_accuracy: 0.6157\n",
      "Epoch 28/35\n",
      "200/200 [==============================] - 83s 414ms/step - loss: 0.8941 - accuracy: 0.5896 - val_loss: 0.8722 - val_accuracy: 0.6157\n",
      "Epoch 29/35\n",
      " 97/200 [=============>................] - ETA: 40s - loss: 0.8932 - accuracy: 0.5948"
     ]
    },
    {
     "ename": "KeyboardInterrupt",
     "evalue": "",
     "output_type": "error",
     "traceback": [
      "\u001b[0;31m---------------------------------------------------------------------------\u001b[0m",
      "\u001b[0;31mKeyboardInterrupt\u001b[0m                         Traceback (most recent call last)",
      "\u001b[0;32m<ipython-input-22-1d5bced2df31>\u001b[0m in \u001b[0;36m<module>\u001b[0;34m\u001b[0m\n\u001b[1;32m      8\u001b[0m model.fit_generator(aug.flow(trainX, trainY, batch_size=BS),\n\u001b[1;32m      9\u001b[0m         \u001b[0mvalidation_data\u001b[0m\u001b[0;34m=\u001b[0m\u001b[0;34m(\u001b[0m\u001b[0mtestX\u001b[0m\u001b[0;34m,\u001b[0m \u001b[0mtestY\u001b[0m\u001b[0;34m)\u001b[0m\u001b[0;34m,\u001b[0m \u001b[0msteps_per_epoch\u001b[0m\u001b[0;34m=\u001b[0m\u001b[0mlen\u001b[0m\u001b[0;34m(\u001b[0m\u001b[0mtrainX\u001b[0m\u001b[0;34m)\u001b[0m \u001b[0;34m//\u001b[0m \u001b[0mBS\u001b[0m\u001b[0;34m,\u001b[0m\u001b[0;34m\u001b[0m\u001b[0;34m\u001b[0m\u001b[0m\n\u001b[0;32m---> 10\u001b[0;31m         epochs=EPOCHS, verbose=1)\n\u001b[0m",
      "\u001b[0;32m/usr/local/lib/python3.6/dist-packages/keras/legacy/interfaces.py\u001b[0m in \u001b[0;36mwrapper\u001b[0;34m(*args, **kwargs)\u001b[0m\n\u001b[1;32m     89\u001b[0m                 warnings.warn('Update your `' + object_name + '` call to the ' +\n\u001b[1;32m     90\u001b[0m                               'Keras 2 API: ' + signature, stacklevel=2)\n\u001b[0;32m---> 91\u001b[0;31m             \u001b[0;32mreturn\u001b[0m \u001b[0mfunc\u001b[0m\u001b[0;34m(\u001b[0m\u001b[0;34m*\u001b[0m\u001b[0margs\u001b[0m\u001b[0;34m,\u001b[0m \u001b[0;34m**\u001b[0m\u001b[0mkwargs\u001b[0m\u001b[0;34m)\u001b[0m\u001b[0;34m\u001b[0m\u001b[0;34m\u001b[0m\u001b[0m\n\u001b[0m\u001b[1;32m     92\u001b[0m         \u001b[0mwrapper\u001b[0m\u001b[0;34m.\u001b[0m\u001b[0m_original_function\u001b[0m \u001b[0;34m=\u001b[0m \u001b[0mfunc\u001b[0m\u001b[0;34m\u001b[0m\u001b[0;34m\u001b[0m\u001b[0m\n\u001b[1;32m     93\u001b[0m         \u001b[0;32mreturn\u001b[0m \u001b[0mwrapper\u001b[0m\u001b[0;34m\u001b[0m\u001b[0;34m\u001b[0m\u001b[0m\n",
      "\u001b[0;32m/usr/local/lib/python3.6/dist-packages/keras/engine/training.py\u001b[0m in \u001b[0;36mfit_generator\u001b[0;34m(self, generator, steps_per_epoch, epochs, verbose, callbacks, validation_data, validation_steps, validation_freq, class_weight, max_queue_size, workers, use_multiprocessing, shuffle, initial_epoch)\u001b[0m\n\u001b[1;32m   1730\u001b[0m             \u001b[0muse_multiprocessing\u001b[0m\u001b[0;34m=\u001b[0m\u001b[0muse_multiprocessing\u001b[0m\u001b[0;34m,\u001b[0m\u001b[0;34m\u001b[0m\u001b[0;34m\u001b[0m\u001b[0m\n\u001b[1;32m   1731\u001b[0m             \u001b[0mshuffle\u001b[0m\u001b[0;34m=\u001b[0m\u001b[0mshuffle\u001b[0m\u001b[0;34m,\u001b[0m\u001b[0;34m\u001b[0m\u001b[0;34m\u001b[0m\u001b[0m\n\u001b[0;32m-> 1732\u001b[0;31m             initial_epoch=initial_epoch)\n\u001b[0m\u001b[1;32m   1733\u001b[0m \u001b[0;34m\u001b[0m\u001b[0m\n\u001b[1;32m   1734\u001b[0m     \u001b[0;34m@\u001b[0m\u001b[0minterfaces\u001b[0m\u001b[0;34m.\u001b[0m\u001b[0mlegacy_generator_methods_support\u001b[0m\u001b[0;34m\u001b[0m\u001b[0;34m\u001b[0m\u001b[0m\n",
      "\u001b[0;32m/usr/local/lib/python3.6/dist-packages/keras/engine/training_generator.py\u001b[0m in \u001b[0;36mfit_generator\u001b[0;34m(model, generator, steps_per_epoch, epochs, verbose, callbacks, validation_data, validation_steps, validation_freq, class_weight, max_queue_size, workers, use_multiprocessing, shuffle, initial_epoch)\u001b[0m\n\u001b[1;32m    218\u001b[0m                                             \u001b[0msample_weight\u001b[0m\u001b[0;34m=\u001b[0m\u001b[0msample_weight\u001b[0m\u001b[0;34m,\u001b[0m\u001b[0;34m\u001b[0m\u001b[0;34m\u001b[0m\u001b[0m\n\u001b[1;32m    219\u001b[0m                                             \u001b[0mclass_weight\u001b[0m\u001b[0;34m=\u001b[0m\u001b[0mclass_weight\u001b[0m\u001b[0;34m,\u001b[0m\u001b[0;34m\u001b[0m\u001b[0;34m\u001b[0m\u001b[0m\n\u001b[0;32m--> 220\u001b[0;31m                                             reset_metrics=False)\n\u001b[0m\u001b[1;32m    221\u001b[0m \u001b[0;34m\u001b[0m\u001b[0m\n\u001b[1;32m    222\u001b[0m                 \u001b[0mouts\u001b[0m \u001b[0;34m=\u001b[0m \u001b[0mto_list\u001b[0m\u001b[0;34m(\u001b[0m\u001b[0mouts\u001b[0m\u001b[0;34m)\u001b[0m\u001b[0;34m\u001b[0m\u001b[0;34m\u001b[0m\u001b[0m\n",
      "\u001b[0;32m/usr/local/lib/python3.6/dist-packages/keras/engine/training.py\u001b[0m in \u001b[0;36mtrain_on_batch\u001b[0;34m(self, x, y, sample_weight, class_weight, reset_metrics)\u001b[0m\n\u001b[1;32m   1512\u001b[0m             \u001b[0mins\u001b[0m \u001b[0;34m=\u001b[0m \u001b[0mx\u001b[0m \u001b[0;34m+\u001b[0m \u001b[0my\u001b[0m \u001b[0;34m+\u001b[0m \u001b[0msample_weights\u001b[0m\u001b[0;34m\u001b[0m\u001b[0;34m\u001b[0m\u001b[0m\n\u001b[1;32m   1513\u001b[0m         \u001b[0mself\u001b[0m\u001b[0;34m.\u001b[0m\u001b[0m_make_train_function\u001b[0m\u001b[0;34m(\u001b[0m\u001b[0;34m)\u001b[0m\u001b[0;34m\u001b[0m\u001b[0;34m\u001b[0m\u001b[0m\n\u001b[0;32m-> 1514\u001b[0;31m         \u001b[0moutputs\u001b[0m \u001b[0;34m=\u001b[0m \u001b[0mself\u001b[0m\u001b[0;34m.\u001b[0m\u001b[0mtrain_function\u001b[0m\u001b[0;34m(\u001b[0m\u001b[0mins\u001b[0m\u001b[0;34m)\u001b[0m\u001b[0;34m\u001b[0m\u001b[0;34m\u001b[0m\u001b[0m\n\u001b[0m\u001b[1;32m   1515\u001b[0m \u001b[0;34m\u001b[0m\u001b[0m\n\u001b[1;32m   1516\u001b[0m         \u001b[0;32mif\u001b[0m \u001b[0mreset_metrics\u001b[0m\u001b[0;34m:\u001b[0m\u001b[0;34m\u001b[0m\u001b[0;34m\u001b[0m\u001b[0m\n",
      "\u001b[0;32m/usr/local/lib/python3.6/dist-packages/tensorflow/python/keras/backend.py\u001b[0m in \u001b[0;36m__call__\u001b[0;34m(self, inputs)\u001b[0m\n\u001b[1;32m   3290\u001b[0m \u001b[0;34m\u001b[0m\u001b[0m\n\u001b[1;32m   3291\u001b[0m     fetched = self._callable_fn(*array_vals,\n\u001b[0;32m-> 3292\u001b[0;31m                                 run_metadata=self.run_metadata)\n\u001b[0m\u001b[1;32m   3293\u001b[0m     \u001b[0mself\u001b[0m\u001b[0;34m.\u001b[0m\u001b[0m_call_fetch_callbacks\u001b[0m\u001b[0;34m(\u001b[0m\u001b[0mfetched\u001b[0m\u001b[0;34m[\u001b[0m\u001b[0;34m-\u001b[0m\u001b[0mlen\u001b[0m\u001b[0;34m(\u001b[0m\u001b[0mself\u001b[0m\u001b[0;34m.\u001b[0m\u001b[0m_fetches\u001b[0m\u001b[0;34m)\u001b[0m\u001b[0;34m:\u001b[0m\u001b[0;34m]\u001b[0m\u001b[0;34m)\u001b[0m\u001b[0;34m\u001b[0m\u001b[0;34m\u001b[0m\u001b[0m\n\u001b[1;32m   3294\u001b[0m     output_structure = nest.pack_sequence_as(\n",
      "\u001b[0;32m/usr/local/lib/python3.6/dist-packages/tensorflow/python/client/session.py\u001b[0m in \u001b[0;36m__call__\u001b[0;34m(self, *args, **kwargs)\u001b[0m\n\u001b[1;32m   1456\u001b[0m         ret = tf_session.TF_SessionRunCallable(self._session._session,\n\u001b[1;32m   1457\u001b[0m                                                \u001b[0mself\u001b[0m\u001b[0;34m.\u001b[0m\u001b[0m_handle\u001b[0m\u001b[0;34m,\u001b[0m \u001b[0margs\u001b[0m\u001b[0;34m,\u001b[0m\u001b[0;34m\u001b[0m\u001b[0;34m\u001b[0m\u001b[0m\n\u001b[0;32m-> 1458\u001b[0;31m                                                run_metadata_ptr)\n\u001b[0m\u001b[1;32m   1459\u001b[0m         \u001b[0;32mif\u001b[0m \u001b[0mrun_metadata\u001b[0m\u001b[0;34m:\u001b[0m\u001b[0;34m\u001b[0m\u001b[0;34m\u001b[0m\u001b[0m\n\u001b[1;32m   1460\u001b[0m           \u001b[0mproto_data\u001b[0m \u001b[0;34m=\u001b[0m \u001b[0mtf_session\u001b[0m\u001b[0;34m.\u001b[0m\u001b[0mTF_GetBuffer\u001b[0m\u001b[0;34m(\u001b[0m\u001b[0mrun_metadata_ptr\u001b[0m\u001b[0;34m)\u001b[0m\u001b[0;34m\u001b[0m\u001b[0;34m\u001b[0m\u001b[0m\n",
      "\u001b[0;31mKeyboardInterrupt\u001b[0m: "
     ]
    }
   ],
   "source": [
    "from keras.preprocessing.image import ImageDataGenerator\n",
    "#通过实时数据增强生成张量图像数据批次。数据将不断循环（按批次）。\n",
    "#rotation_range: 整数。随机旋转的度数范围。\n",
    "aug = ImageDataGenerator(rotation_range=30, width_shift_range=0.1,\n",
    "        height_shift_range=0.1, shear_range=0.2, zoom_range=0.2,\n",
    "        horizontal_flip=True, fill_mode=\"nearest\")\n",
    "\n",
    "model.fit_generator(aug.flow(trainX, trainY, batch_size=BS),\n",
    "        validation_data=(testX, testY), steps_per_epoch=len(trainX) // BS,\n",
    "        epochs=EPOCHS, verbose=1)"
   ]
  },
  {
   "cell_type": "code",
   "execution_count": null,
   "metadata": {},
   "outputs": [],
   "source": []
  }
 ],
 "metadata": {
  "kernelspec": {
   "display_name": "Python 3",
   "language": "python",
   "name": "python3"
  },
  "language_info": {
   "codemirror_mode": {
    "name": "ipython",
    "version": 3
   },
   "file_extension": ".py",
   "mimetype": "text/x-python",
   "name": "python",
   "nbconvert_exporter": "python",
   "pygments_lexer": "ipython3",
   "version": "3.6.8"
  }
 },
 "nbformat": 4,
 "nbformat_minor": 4
}
