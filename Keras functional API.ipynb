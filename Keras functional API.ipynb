{
 "cells": [
  {
   "cell_type": "markdown",
   "metadata": {},
   "source": [
    "# Multi-input and multi-output models using keras\n",
    "\n",
    "用keas构建一个多输入多输出的模型\n",
    "\n",
    "see:https://keras.io/getting-started/functional-api-guide/#_3\n",
    "\n",
    "参考中文版官方文档：https://keras.io/zh/getting-started/functional-api-guide/#_3\n",
    "\n",
    "有时候我们的输入不仅仅是文字，还需要有图片辅助或者语音辅助，这时我们就可以用函数式API来构建这么一个网络\n",
    "\n",
    "The whole framework for processing text and image"
   ]
  },
  {
   "cell_type": "code",
   "execution_count": 2,
   "metadata": {},
   "outputs": [
    {
     "name": "stderr",
     "output_type": "stream",
     "text": [
      "Using TensorFlow backend.\n"
     ]
    }
   ],
   "source": [
    "import keras\n",
    "from keras.layers import Input, Embedding, LSTM, Dense, Dropout\n",
    "from keras.models import Model"
   ]
  },
  {
   "cell_type": "code",
   "execution_count": 3,
   "metadata": {},
   "outputs": [],
   "source": [
    "#图像部分简单定义一个网络\n",
    "img_maxlen = 100\n",
    "img_input = Input(shape=(img_maxlen,))\n",
    "x1 = Dense(1000, activation='relu')(img_input)\n",
    "x1 = Dropout(0.5)(x1)\n",
    "x1 = Dense(600, activation='relu')(x1)\n",
    "img_output = Dense(10)(x1)"
   ]
  },
  {
   "cell_type": "code",
   "execution_count": 4,
   "metadata": {},
   "outputs": [],
   "source": [
    "#文字部分用LSTM\n",
    "text_maxlen = 100\n",
    "text_input = Input(shape=(text_maxlen,),dtype='int32')\n",
    "x2 = Embedding(output_dim=512, input_dim=10000, input_length=text_maxlen)(text_input)\n",
    "x2 = LSTM(32)(x2)\n",
    "x2 = Dropout(0.5)(x2)\n",
    "text_output = Dense(10)(x2)"
   ]
  },
  {
   "cell_type": "code",
   "execution_count": 5,
   "metadata": {},
   "outputs": [],
   "source": [
    "#将图像处理的输出与 LSTM 层的输出连接起来，输入到模型中\n",
    "x = keras.layers.concatenate([img_output, text_output])\n",
    "\n",
    "# 堆叠多个全连接网络层\n",
    "x = Dense(64, activation='relu')(x)\n",
    "x = Dense(64, activation='relu')(x)\n",
    "x = Dense(64, activation='relu')(x)\n",
    "\n",
    "# 最后添加主要的逻辑回归层\n",
    "output = Dense(3, activation='softmax', name='output')(x)\n",
    "\n",
    "#定义一个具有两个输入和一个输出的模型：\n",
    "model = Model(inputs=[img_input, text_input], outputs=[output])"
   ]
  },
  {
   "cell_type": "code",
   "execution_count": 6,
   "metadata": {},
   "outputs": [],
   "source": [
    "#模型编译\n",
    "from keras.optimizers import Adam\n",
    "\n",
    "model.compile(\n",
    "    optimizer=Adam(1e-5),\n",
    "    loss='sparse_categorical_crossentropy',\n",
    "    metrics=['sparse_categorical_accuracy'],\n",
    "             )"
   ]
  },
  {
   "cell_type": "code",
   "execution_count": null,
   "metadata": {},
   "outputs": [],
   "source": []
  }
 ],
 "metadata": {
  "kernelspec": {
   "display_name": "Python 3",
   "language": "python",
   "name": "python3"
  },
  "language_info": {
   "codemirror_mode": {
    "name": "ipython",
    "version": 3
   },
   "file_extension": ".py",
   "mimetype": "text/x-python",
   "name": "python",
   "nbconvert_exporter": "python",
   "pygments_lexer": "ipython3",
   "version": "3.6.8"
  }
 },
 "nbformat": 4,
 "nbformat_minor": 2
}
